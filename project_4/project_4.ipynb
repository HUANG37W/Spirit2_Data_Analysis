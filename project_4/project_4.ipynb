{
 "cells": [
  {
   "cell_type": "code",
   "execution_count": 1,
   "metadata": {},
   "outputs": [
    {
     "data": {
      "text/plain": [
       "DataTransformerRegistry.enable('json')"
      ]
     },
     "execution_count": 1,
     "metadata": {},
     "output_type": "execute_result"
    }
   ],
   "source": [
    "import pandas as pd\n",
    "import altair as alt\n",
    "alt.data_transformers.enable('json')\n"
   ]
  },
  {
   "cell_type": "code",
   "execution_count": 2,
   "metadata": {},
   "outputs": [],
   "source": [
    "dwellings = pd.read_csv(\"https://github.com/byuidatascience/data4dwellings/raw/master/data-raw/dwellings_denver/dwellings_denver.csv\")\n",
    "dwellings1 = pd.read_csv(\"https://github.com/byuidatascience/data4dwellings/raw/master/data-raw/dwellings_ml/dwellings_ml.csv\")"
   ]
  },
  {
   "cell_type": "code",
   "execution_count": 3,
   "metadata": {},
   "outputs": [
    {
     "data": {
      "text/plain": [
       "Index(['parcel', 'nbhd', 'abstrprd', 'livearea', 'finbsmnt', 'basement',\n",
       "       'yrbuilt', 'condition', 'quality', 'totunits', 'stories', 'gartype',\n",
       "       'nocars', 'xtraffic', 'floorlvl', 'numbdrm', 'numbaths', 'arcstyle',\n",
       "       'sprice', 'deduct', 'netprice', 'tasp', 'smonth', 'syear', 'qualified',\n",
       "       'status'],\n",
       "      dtype='object')"
      ]
     },
     "execution_count": 3,
     "metadata": {},
     "output_type": "execute_result"
    }
   ],
   "source": [
    "dwellings.columns"
   ]
  },
  {
   "cell_type": "code",
   "execution_count": 4,
   "metadata": {},
   "outputs": [
    {
     "data": {
      "text/plain": [
       "Index(['parcel', 'abstrprd', 'livearea', 'finbsmnt', 'basement', 'yrbuilt',\n",
       "       'totunits', 'stories', 'nocars', 'numbdrm', 'numbaths', 'sprice',\n",
       "       'deduct', 'netprice', 'tasp', 'smonth', 'syear', 'condition_AVG',\n",
       "       'condition_Excel', 'condition_Fair', 'condition_Good',\n",
       "       'condition_VGood', 'quality_A', 'quality_B', 'quality_C', 'quality_D',\n",
       "       'quality_X', 'gartype_Att', 'gartype_Att/Det', 'gartype_CP',\n",
       "       'gartype_Det', 'gartype_None', 'gartype_att/CP', 'gartype_det/CP',\n",
       "       'arcstyle_BI-LEVEL', 'arcstyle_CONVERSIONS', 'arcstyle_END UNIT',\n",
       "       'arcstyle_MIDDLE UNIT', 'arcstyle_ONE AND HALF-STORY',\n",
       "       'arcstyle_ONE-STORY', 'arcstyle_SPLIT LEVEL', 'arcstyle_THREE-STORY',\n",
       "       'arcstyle_TRI-LEVEL', 'arcstyle_TRI-LEVEL WITH BASEMENT',\n",
       "       'arcstyle_TWO AND HALF-STORY', 'arcstyle_TWO-STORY', 'qualified_Q',\n",
       "       'qualified_U', 'status_I', 'status_V', 'before1980'],\n",
       "      dtype='object')"
      ]
     },
     "execution_count": 4,
     "metadata": {},
     "output_type": "execute_result"
    }
   ],
   "source": [
    "dwellings1.columns"
   ]
  },
  {
   "cell_type": "code",
   "execution_count": 5,
   "metadata": {},
   "outputs": [
    {
     "data": {
      "text/html": [
       "<div>\n",
       "<style scoped>\n",
       "    .dataframe tbody tr th:only-of-type {\n",
       "        vertical-align: middle;\n",
       "    }\n",
       "\n",
       "    .dataframe tbody tr th {\n",
       "        vertical-align: top;\n",
       "    }\n",
       "\n",
       "    .dataframe thead th {\n",
       "        text-align: right;\n",
       "    }\n",
       "</style>\n",
       "<table border=\"1\" class=\"dataframe\">\n",
       "  <thead>\n",
       "    <tr style=\"text-align: right;\">\n",
       "      <th></th>\n",
       "      <th>parcel</th>\n",
       "      <th>nbhd</th>\n",
       "      <th>abstrprd</th>\n",
       "      <th>livearea</th>\n",
       "      <th>finbsmnt</th>\n",
       "      <th>basement</th>\n",
       "      <th>yrbuilt</th>\n",
       "      <th>condition</th>\n",
       "      <th>quality</th>\n",
       "      <th>totunits</th>\n",
       "      <th>...</th>\n",
       "      <th>numbaths</th>\n",
       "      <th>arcstyle</th>\n",
       "      <th>sprice</th>\n",
       "      <th>deduct</th>\n",
       "      <th>netprice</th>\n",
       "      <th>tasp</th>\n",
       "      <th>smonth</th>\n",
       "      <th>syear</th>\n",
       "      <th>qualified</th>\n",
       "      <th>status</th>\n",
       "    </tr>\n",
       "  </thead>\n",
       "  <tbody>\n",
       "    <tr>\n",
       "      <th>0</th>\n",
       "      <td>00102-08-065-065</td>\n",
       "      <td>4</td>\n",
       "      <td>1130</td>\n",
       "      <td>1346</td>\n",
       "      <td>0</td>\n",
       "      <td>0</td>\n",
       "      <td>2004</td>\n",
       "      <td>AVG</td>\n",
       "      <td>C</td>\n",
       "      <td>1</td>\n",
       "      <td>...</td>\n",
       "      <td>2</td>\n",
       "      <td>MIDDLE UNIT</td>\n",
       "      <td>100000</td>\n",
       "      <td>0</td>\n",
       "      <td>100000</td>\n",
       "      <td>100000</td>\n",
       "      <td>2</td>\n",
       "      <td>2012</td>\n",
       "      <td>Q</td>\n",
       "      <td>I</td>\n",
       "    </tr>\n",
       "    <tr>\n",
       "      <th>1</th>\n",
       "      <td>00102-08-073-073</td>\n",
       "      <td>4</td>\n",
       "      <td>1130</td>\n",
       "      <td>1249</td>\n",
       "      <td>0</td>\n",
       "      <td>0</td>\n",
       "      <td>2005</td>\n",
       "      <td>AVG</td>\n",
       "      <td>C</td>\n",
       "      <td>1</td>\n",
       "      <td>...</td>\n",
       "      <td>2</td>\n",
       "      <td>END UNIT</td>\n",
       "      <td>94700</td>\n",
       "      <td>0</td>\n",
       "      <td>94700</td>\n",
       "      <td>94700</td>\n",
       "      <td>4</td>\n",
       "      <td>2011</td>\n",
       "      <td>Q</td>\n",
       "      <td>I</td>\n",
       "    </tr>\n",
       "    <tr>\n",
       "      <th>2</th>\n",
       "      <td>00102-08-078-078</td>\n",
       "      <td>4</td>\n",
       "      <td>1130</td>\n",
       "      <td>1346</td>\n",
       "      <td>0</td>\n",
       "      <td>0</td>\n",
       "      <td>2005</td>\n",
       "      <td>AVG</td>\n",
       "      <td>C</td>\n",
       "      <td>1</td>\n",
       "      <td>...</td>\n",
       "      <td>2</td>\n",
       "      <td>MIDDLE UNIT</td>\n",
       "      <td>89500</td>\n",
       "      <td>0</td>\n",
       "      <td>89500</td>\n",
       "      <td>89500</td>\n",
       "      <td>10</td>\n",
       "      <td>2010</td>\n",
       "      <td>Q</td>\n",
       "      <td>I</td>\n",
       "    </tr>\n",
       "    <tr>\n",
       "      <th>3</th>\n",
       "      <td>00102-08-081-081</td>\n",
       "      <td>4</td>\n",
       "      <td>1130</td>\n",
       "      <td>1146</td>\n",
       "      <td>0</td>\n",
       "      <td>0</td>\n",
       "      <td>2005</td>\n",
       "      <td>AVG</td>\n",
       "      <td>C</td>\n",
       "      <td>1</td>\n",
       "      <td>...</td>\n",
       "      <td>2</td>\n",
       "      <td>END UNIT</td>\n",
       "      <td>92000</td>\n",
       "      <td>3220</td>\n",
       "      <td>88780</td>\n",
       "      <td>88780</td>\n",
       "      <td>10</td>\n",
       "      <td>2011</td>\n",
       "      <td>Q</td>\n",
       "      <td>I</td>\n",
       "    </tr>\n",
       "    <tr>\n",
       "      <th>4</th>\n",
       "      <td>00102-08-086-086</td>\n",
       "      <td>4</td>\n",
       "      <td>1130</td>\n",
       "      <td>1249</td>\n",
       "      <td>0</td>\n",
       "      <td>0</td>\n",
       "      <td>2005</td>\n",
       "      <td>AVG</td>\n",
       "      <td>C</td>\n",
       "      <td>1</td>\n",
       "      <td>...</td>\n",
       "      <td>2</td>\n",
       "      <td>END UNIT</td>\n",
       "      <td>74199</td>\n",
       "      <td>0</td>\n",
       "      <td>74199</td>\n",
       "      <td>74199</td>\n",
       "      <td>3</td>\n",
       "      <td>2012</td>\n",
       "      <td>U</td>\n",
       "      <td>I</td>\n",
       "    </tr>\n",
       "  </tbody>\n",
       "</table>\n",
       "<p>5 rows × 26 columns</p>\n",
       "</div>"
      ],
      "text/plain": [
       "             parcel  nbhd  abstrprd  livearea  finbsmnt  basement  yrbuilt  \\\n",
       "0  00102-08-065-065     4      1130      1346         0         0     2004   \n",
       "1  00102-08-073-073     4      1130      1249         0         0     2005   \n",
       "2  00102-08-078-078     4      1130      1346         0         0     2005   \n",
       "3  00102-08-081-081     4      1130      1146         0         0     2005   \n",
       "4  00102-08-086-086     4      1130      1249         0         0     2005   \n",
       "\n",
       "  condition quality  totunits  ...  numbaths     arcstyle  sprice  deduct  \\\n",
       "0       AVG       C         1  ...         2  MIDDLE UNIT  100000       0   \n",
       "1       AVG       C         1  ...         2     END UNIT   94700       0   \n",
       "2       AVG       C         1  ...         2  MIDDLE UNIT   89500       0   \n",
       "3       AVG       C         1  ...         2     END UNIT   92000    3220   \n",
       "4       AVG       C         1  ...         2     END UNIT   74199       0   \n",
       "\n",
       "   netprice    tasp  smonth syear  qualified  status  \n",
       "0    100000  100000       2  2012          Q       I  \n",
       "1     94700   94700       4  2011          Q       I  \n",
       "2     89500   89500      10  2010          Q       I  \n",
       "3     88780   88780      10  2011          Q       I  \n",
       "4     74199   74199       3  2012          U       I  \n",
       "\n",
       "[5 rows x 26 columns]"
      ]
     },
     "execution_count": 5,
     "metadata": {},
     "output_type": "execute_result"
    }
   ],
   "source": [
    "dwellings.head()"
   ]
  },
  {
   "cell_type": "code",
   "execution_count": 6,
   "metadata": {},
   "outputs": [],
   "source": [
    "#x = dwellings.filter(['livearea','numbaths'])\n",
    "#y = dwellings['before1980']"
   ]
  },
  {
   "cell_type": "code",
   "execution_count": 7,
   "metadata": {},
   "outputs": [
    {
     "data": {
      "text/html": [
       "\n",
       "<div id=\"altair-viz-46dd5fe205e040708d2269d1da4fc182\"></div>\n",
       "<script type=\"text/javascript\">\n",
       "  var VEGA_DEBUG = (typeof VEGA_DEBUG == \"undefined\") ? {} : VEGA_DEBUG;\n",
       "  (function(spec, embedOpt){\n",
       "    let outputDiv = document.currentScript.previousElementSibling;\n",
       "    if (outputDiv.id !== \"altair-viz-46dd5fe205e040708d2269d1da4fc182\") {\n",
       "      outputDiv = document.getElementById(\"altair-viz-46dd5fe205e040708d2269d1da4fc182\");\n",
       "    }\n",
       "    const paths = {\n",
       "      \"vega\": \"https://cdn.jsdelivr.net/npm//vega@5?noext\",\n",
       "      \"vega-lib\": \"https://cdn.jsdelivr.net/npm//vega-lib?noext\",\n",
       "      \"vega-lite\": \"https://cdn.jsdelivr.net/npm//vega-lite@4.17.0?noext\",\n",
       "      \"vega-embed\": \"https://cdn.jsdelivr.net/npm//vega-embed@6?noext\",\n",
       "    };\n",
       "\n",
       "    function maybeLoadScript(lib, version) {\n",
       "      var key = `${lib.replace(\"-\", \"\")}_version`;\n",
       "      return (VEGA_DEBUG[key] == version) ?\n",
       "        Promise.resolve(paths[lib]) :\n",
       "        new Promise(function(resolve, reject) {\n",
       "          var s = document.createElement('script');\n",
       "          document.getElementsByTagName(\"head\")[0].appendChild(s);\n",
       "          s.async = true;\n",
       "          s.onload = () => {\n",
       "            VEGA_DEBUG[key] = version;\n",
       "            return resolve(paths[lib]);\n",
       "          };\n",
       "          s.onerror = () => reject(`Error loading script: ${paths[lib]}`);\n",
       "          s.src = paths[lib];\n",
       "        });\n",
       "    }\n",
       "\n",
       "    function showError(err) {\n",
       "      outputDiv.innerHTML = `<div class=\"error\" style=\"color:red;\">${err}</div>`;\n",
       "      throw err;\n",
       "    }\n",
       "\n",
       "    function displayChart(vegaEmbed) {\n",
       "      vegaEmbed(outputDiv, spec, embedOpt)\n",
       "        .catch(err => showError(`Javascript Error: ${err.message}<br>This usually means there's a typo in your chart specification. See the javascript console for the full traceback.`));\n",
       "    }\n",
       "\n",
       "    if(typeof define === \"function\" && define.amd) {\n",
       "      requirejs.config({paths});\n",
       "      require([\"vega-embed\"], displayChart, err => showError(`Error loading script: ${err.message}`));\n",
       "    } else {\n",
       "      maybeLoadScript(\"vega\", \"5\")\n",
       "        .then(() => maybeLoadScript(\"vega-lite\", \"4.17.0\"))\n",
       "        .then(() => maybeLoadScript(\"vega-embed\", \"6\"))\n",
       "        .catch(showError)\n",
       "        .then(() => displayChart(vegaEmbed));\n",
       "    }\n",
       "  })({\"config\": {\"view\": {\"continuousWidth\": 400, \"continuousHeight\": 300}}, \"data\": {\"url\": \"altair-data-44362783edd7586208e38da934db71ed.json\", \"format\": {\"type\": \"json\"}}, \"mark\": \"boxplot\", \"encoding\": {\"x\": {\"field\": \"numbaths\", \"type\": \"quantitative\"}, \"y\": {\"field\": \"before1980\", \"type\": \"quantitative\"}}, \"title\": \"The house variables and the variable before1980 \", \"$schema\": \"https://vega.github.io/schema/vega-lite/v4.17.0.json\"}, {\"mode\": \"vega-lite\"});\n",
       "</script>"
      ],
      "text/plain": [
       "alt.Chart(...)"
      ]
     },
     "execution_count": 7,
     "metadata": {},
     "output_type": "execute_result"
    }
   ],
   "source": [
    "chart = (alt.Chart(dwellings1)\n",
    "    .encode(\n",
    "        x = alt.X('numbaths'),\n",
    "        y = alt.Y('before1980')\n",
    "    )\n",
    "    .mark_boxplot()\n",
    ").properties(title = 'The house variables and the variable before1980 ')\n",
    "\n",
    "chart"
   ]
  }
 ],
 "metadata": {
  "kernelspec": {
   "display_name": "Python 3.8.8 64-bit",
   "language": "python",
   "name": "python3"
  },
  "language_info": {
   "codemirror_mode": {
    "name": "ipython",
    "version": 3
   },
   "file_extension": ".py",
   "mimetype": "text/x-python",
   "name": "python",
   "nbconvert_exporter": "python",
   "pygments_lexer": "ipython3",
   "version": "3.8.8"
  },
  "orig_nbformat": 4,
  "vscode": {
   "interpreter": {
    "hash": "6a926afa313b26ae1264fdcf81c726a97e69f6ba2ba780f6aa901948710f8d6e"
   }
  }
 },
 "nbformat": 4,
 "nbformat_minor": 2
}
